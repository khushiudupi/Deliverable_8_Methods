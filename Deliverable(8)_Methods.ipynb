{
  "nbformat": 4,
  "nbformat_minor": 0,
  "metadata": {
    "colab": {
      "provenance": []
    },
    "kernelspec": {
      "name": "python3",
      "display_name": "Python 3"
    },
    "language_info": {
      "name": "python"
    }
  },
  "cells": [
    {
      "cell_type": "code",
      "execution_count": 23,
      "metadata": {
        "id": "Jd9oNIjQyFjE"
      },
      "outputs": [],
      "source": [
        "import numpy as np"
      ]
    },
    {
      "cell_type": "code",
      "source": [
        "def random_list(size):\n",
        "  list = []\n",
        "  for i in range(size):\n",
        "    list.append(np.random.randint(10,50))\n",
        "    return list \n",
        "def sum_random(list):\n",
        "  sum = 0\n",
        "  for i in range(len(list)):\n",
        "    sum = sum + list[i]\n",
        "    return sum \n",
        "    "
      ],
      "metadata": {
        "id": "25FNbi4wykSn"
      },
      "execution_count": 24,
      "outputs": []
    },
    {
      "cell_type": "code",
      "source": [
        "while True:\n",
        "    n = int(input(\"Enter some integer:\"))\n",
        "    try: \n",
        "      if n >= 5 and n<=15:\n",
        "        break\n",
        "      else:\n",
        "        print(\"Inavlid input. Please try again.\")\n",
        "    except ValueError:\n",
        "      print(\"Invalid input. Please try again.\")"
      ],
      "metadata": {
        "id": "8fNjScP76YAp",
        "colab": {
          "base_uri": "https://localhost:8080/"
        },
        "outputId": "0cc3d5e4-1a25-4c39-9998-27cec3ec21c9"
      },
      "execution_count": 25,
      "outputs": [
        {
          "name": "stdout",
          "output_type": "stream",
          "text": [
            "Enter some integer:12\n"
          ]
        }
      ]
    },
    {
      "cell_type": "code",
      "source": [
        "MyList = np.random.randint(10,50,n)\n",
        "MyList"
      ],
      "metadata": {
        "colab": {
          "base_uri": "https://localhost:8080/"
        },
        "id": "ajEjiM7MSafN",
        "outputId": "d03a378d-6650-472e-e3d4-65c3c5d5c25d"
      },
      "execution_count": 26,
      "outputs": [
        {
          "output_type": "execute_result",
          "data": {
            "text/plain": [
              "array([32, 43, 27, 26, 15, 19, 27, 31, 13, 48, 31, 25])"
            ]
          },
          "metadata": {},
          "execution_count": 26
        }
      ]
    },
    {
      "cell_type": "code",
      "source": [
        "MySum = sum(MyList)\n",
        "MySum"
      ],
      "metadata": {
        "colab": {
          "base_uri": "https://localhost:8080/"
        },
        "id": "aZOVA6J1Tp8q",
        "outputId": "63fcd66c-72e5-4d15-8d76-aa259de79c63"
      },
      "execution_count": 27,
      "outputs": [
        {
          "output_type": "execute_result",
          "data": {
            "text/plain": [
              "337"
            ]
          },
          "metadata": {},
          "execution_count": 27
        }
      ]
    },
    {
      "cell_type": "code",
      "source": [
        "MyList2 = np.random.randint(10,50, n)\n",
        "MyList2"
      ],
      "metadata": {
        "colab": {
          "base_uri": "https://localhost:8080/"
        },
        "id": "RbLwzdsbT2IX",
        "outputId": "a20b32c7-bab0-42e5-d9a2-4ad1b9b31f12"
      },
      "execution_count": 28,
      "outputs": [
        {
          "output_type": "execute_result",
          "data": {
            "text/plain": [
              "array([39, 28, 32, 40, 12, 27, 41, 33, 36, 19, 40, 39])"
            ]
          },
          "metadata": {},
          "execution_count": 28
        }
      ]
    },
    {
      "cell_type": "code",
      "source": [
        "MySum2 = sum(MyList2)\n",
        "MySum2"
      ],
      "metadata": {
        "colab": {
          "base_uri": "https://localhost:8080/"
        },
        "id": "xn2k_OHHUfrW",
        "outputId": "da0996f3-7dc5-4103-e24a-73aca22b3ec1"
      },
      "execution_count": 29,
      "outputs": [
        {
          "output_type": "execute_result",
          "data": {
            "text/plain": [
              "386"
            ]
          },
          "metadata": {},
          "execution_count": 29
        }
      ]
    }
  ]
}